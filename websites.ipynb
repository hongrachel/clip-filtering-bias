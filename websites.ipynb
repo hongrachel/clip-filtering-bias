{
 "cells": [
  {
   "cell_type": "code",
   "execution_count": null,
   "id": "bb36f69e",
   "metadata": {},
   "outputs": [],
   "source": [
    "import sys\n",
    "!{sys.executable} -m pip install wayback"
   ]
  },
  {
   "cell_type": "code",
   "execution_count": null,
   "id": "f7f46233",
   "metadata": {},
   "outputs": [],
   "source": [
    "import os\n",
    "import re\n",
    "import csv\n",
    "import json\n",
    "import random\n",
    "import numpy as np\n",
    "import pandas as pd\n",
    "import matplotlib.pyplot as plt\n",
    "from collections import defaultdict\n",
    "from iso639 import languages\n",
    "import plotly.express as px\n",
    "import plotly.graph_objects as go\n",
    "import plotly.offline as pyo\n",
    "from plotly.subplots import make_subplots\n",
    "import scipy\n",
    "\n",
    "import time\n",
    "import requests\n",
    "from wayback import WaybackClient, WaybackSession\n",
    "\n",
    "# Set notebook mode to work in offline\n",
    "pyo.init_notebook_mode()\n",
    "\n",
    "import seaborn as sns\n",
    "from wordcloud import WordCloud, STOPWORDS, ImageColorGenerator\n",
    "from tldextract import extract\n",
    "import matplotlib.cm as cm\n",
    "  \n",
    "import urllib.request as urlopen\n",
    "from textwrap import wrap"
   ]
  },
  {
   "cell_type": "code",
   "execution_count": null,
   "id": "180f646f",
   "metadata": {},
   "outputs": [],
   "source": [
    "def get_error(filter_num, raw_num):\n",
    "    pos_list = [1] * filter_num\n",
    "    neg_list = [0] * (raw_num - filter_num)\n",
    "    err = np.std(pos_list + neg_list)\n",
    "    return err / np.sqrt(raw_num)"
   ]
  },
  {
   "cell_type": "markdown",
   "id": "031a4b89",
   "metadata": {},
   "source": [
    "# Load metadata"
   ]
  },
  {
   "cell_type": "code",
   "execution_count": null,
   "id": "60c55736",
   "metadata": {},
   "outputs": [],
   "source": [
    "data_dir = '/data/datacomp/'\n",
    "scale_dir = os.path.join(data_dir, 'small')\n",
    "metadata_dir = os.path.join(scale_dir, 'metadata')\n",
    "sample_image_dir = 'sample_images'"
   ]
  },
  {
   "cell_type": "code",
   "execution_count": null,
   "id": "ec783b82",
   "metadata": {},
   "outputs": [],
   "source": [
    "df = None\n",
    "for filename in os.listdir(metadata_dir):\n",
    "    filepath = os.path.join(metadata_dir, filename)\n",
    "    file_df = pd.read_parquet(filepath, engine='pyarrow')\n",
    "    if df is None:\n",
    "        df = file_df\n",
    "    else:\n",
    "        df = pd.concat([df, file_df], ignore_index=True)"
   ]
  },
  {
   "cell_type": "code",
   "execution_count": null,
   "id": "35eb104f",
   "metadata": {},
   "outputs": [],
   "source": [
    "l14_scores = df['clip_l14_similarity_score'].tolist()\n",
    "min_threshold = np.percentile(l14_scores, 70)\n",
    "print(min_threshold)\n",
    "filtered_df = df[df['clip_l14_similarity_score'] > min_threshold]\n",
    "excluded_df = df[df['clip_l14_similarity_score'] <= min_threshold]\n",
    "\n",
    "assert(len(filtered_df) + len(excluded_df) == len(df))\n",
    "print(len(df), len(filtered_df)) # 12.8M --> 3.94M filtered\n",
    "print(len(filtered_df) / len(df)) # 30%"
   ]
  },
  {
   "cell_type": "code",
   "execution_count": null,
   "id": "9538af44",
   "metadata": {},
   "outputs": [],
   "source": [
    "df['is_kept'] = df['clip_l14_similarity_score'].apply(lambda x: x > min_threshold)"
   ]
  },
  {
   "cell_type": "code",
   "execution_count": null,
   "id": "e5618f3d",
   "metadata": {},
   "outputs": [],
   "source": [
    "raw_captions = df['text'].tolist()\n",
    "filtered_captions = filtered_df['text'].tolist()\n",
    "excluded_captions = excluded_df['text'].tolist()"
   ]
  },
  {
   "cell_type": "code",
   "execution_count": null,
   "id": "fef8444d",
   "metadata": {},
   "outputs": [],
   "source": [
    "raw_urls = df['url'].tolist()\n",
    "filtered_urls = filtered_df['url'].tolist()"
   ]
  },
  {
   "cell_type": "code",
   "execution_count": null,
   "id": "0115bbc0",
   "metadata": {},
   "outputs": [],
   "source": [
    "from urllib.parse import urlparse\n",
    "\n",
    "def get_base_url(url):\n",
    "    extract_url = extract(url)\n",
    "    base = extract_url.domain\n",
    "    suffix = extract_url.suffix\n",
    "    return base + '.' + suffix\n",
    "\n",
    "df['base_url'] = df['url'].apply(get_base_url)"
   ]
  },
  {
   "cell_type": "code",
   "execution_count": null,
   "id": "2c7d4dcc",
   "metadata": {},
   "outputs": [],
   "source": [
    "df"
   ]
  },
  {
   "cell_type": "markdown",
   "id": "4606a679",
   "metadata": {},
   "source": [
    "# Utterance date"
   ]
  },
  {
   "cell_type": "code",
   "execution_count": null,
   "id": "a0e7c287",
   "metadata": {},
   "outputs": [],
   "source": [
    "sample_csv_file = '../sample_images_1M_url_df.csv'\n",
    "\n",
    "isHeader = True\n",
    "rows = []\n",
    "with open(sample_csv_file, newline='') as csvfile:\n",
    "    reader = csv.reader(csvfile, delimiter=' ', quotechar='|')\n",
    "    for row in reader:\n",
    "        if isHeader:\n",
    "            isHeader = False\n",
    "            continue\n",
    "        if len(row) > 0:\n",
    "            row_arr = row[0].split(',')\n",
    "            if len(row_arr) == 4:\n",
    "                rows.append(row_arr)\n",
    "sample_uids = set([row[1] for row in rows])\n",
    "print(len(rows), len(sample_uids))"
   ]
  },
  {
   "cell_type": "code",
   "execution_count": null,
   "id": "fc422f7c",
   "metadata": {},
   "outputs": [],
   "source": [
    "df_sample = df[df['uid'].isin(sample_uids)]\n",
    "df_sample"
   ]
  },
  {
   "cell_type": "code",
   "execution_count": null,
   "id": "d805af38",
   "metadata": {},
   "outputs": [],
   "source": [
    "df_sample = pd.read_parquet('df_sample_1M.parquet')\n",
    "sample_uids = set(df_sample['uid'].tolist())\n",
    "df_sample"
   ]
  },
  {
   "cell_type": "code",
   "execution_count": null,
   "id": "3a1d6d1f",
   "metadata": {},
   "outputs": [],
   "source": [
    "timestamps_folder = '/home/hongrach/datafiltering/scripts/timestamps'\n",
    "base_url_dir = os.path.join(timestamps_folder, 'base_url')\n",
    "url_dir = os.path.join(timestamps_folder, 'url')\n",
    "\n",
    "IS_BASE = False"
   ]
  },
  {
   "cell_type": "code",
   "execution_count": null,
   "id": "ed261b10",
   "metadata": {},
   "outputs": [],
   "source": [
    "json_folder = base_url_dir if IS_BASE else url_dir\n",
    "\n",
    "uid_to_timestamps = {}\n",
    "for file in os.listdir(json_folder):\n",
    "    path = os.path.join(json_folder, file)\n",
    "    with open(path) as f:\n",
    "        d = json.load(f)\n",
    "        uid_to_timestamps.update(d)"
   ]
  },
  {
   "cell_type": "code",
   "execution_count": null,
   "id": "32594bbb",
   "metadata": {},
   "outputs": [],
   "source": [
    "len(uid_to_timestamps), len([u for u in uid_to_timestamps if uid_to_timestamps[u] is not None ])"
   ]
  },
  {
   "cell_type": "markdown",
   "id": "bbb2b887",
   "metadata": {},
   "source": [
    "## analysis"
   ]
  },
  {
   "cell_type": "code",
   "execution_count": null,
   "id": "c13899a0",
   "metadata": {},
   "outputs": [],
   "source": [
    "# count by year in filtered dataset\n",
    "\n",
    "df_sample_filtered = df_sample[df_sample['is_kept'] == True]\n",
    "filtered_uids = df_sample_filtered['uid'].tolist()\n",
    "\n",
    "count_by_year = defaultdict(int)\n",
    "succ_count = 0\n",
    "err_count = 0\n",
    "\n",
    "for uid in df_sample['uid'].tolist():\n",
    "    if uid in uid_to_timestamps:\n",
    "        t = uid_to_timestamps[uid]\n",
    "        if t is not None:\n",
    "            year = int(str(t)[:4])\n",
    "            if year >= 1996:\n",
    "                count_by_year[year] += 1\n",
    "                succ_count += 1\n",
    "        else:\n",
    "            err_count += 1\n",
    "    else:\n",
    "        err_count += 1\n",
    "print(succ_count, err_count, succ_count / (succ_count + err_count))\n",
    "\n",
    "fig, ax = plt.subplots(figsize=(6,3))\n",
    "x = count_by_year.keys()\n",
    "plt.bar(x, count_by_year.values())\n",
    "# plt.xticks(np.arange(min(x), max(x)+1, 1.0), rotation=40, ha='right')\n",
    "plt.title('Frequency of raw dataset samples by year')\n",
    "plt.ylabel('Count')\n",
    "plt.xlabel('Year')\n",
    "plt.show()"
   ]
  },
  {
   "cell_type": "code",
   "execution_count": null,
   "id": "ae2b5c21",
   "metadata": {},
   "outputs": [],
   "source": [
    "# filter ratio by year\n",
    "uid_by_year = defaultdict(lambda: defaultdict(list)) # {year: {'kept': [], 'total': []}}\n",
    "filtered_uids_set = set(filtered_uids)\n",
    "\n",
    "succ_count = 0\n",
    "\n",
    "for uid in sample_uids:\n",
    "    is_kept = uid in filtered_uids_set\n",
    "    if uid in uid_to_timestamps:\n",
    "        t = uid_to_timestamps[uid]\n",
    "        if t is not None:\n",
    "            year = int(str(t)[:4])\n",
    "            if year >= 1996:\n",
    "                uid_by_year[year]['total'].append(uid)\n",
    "                if is_kept:\n",
    "                    uid_by_year[year]['kept'].append(uid)\n",
    "                succ_count += 1\n",
    "\n",
    "err_count = len(sample_uids) - succ_count\n",
    "print(succ_count, err_count, succ_count / (succ_count + err_count))\n",
    "\n",
    "years = []\n",
    "filter_ratios = []\n",
    "raw_count = []\n",
    "yerrs = []\n",
    "for y in uid_by_year.keys():\n",
    "    num_total = len(uid_by_year[y]['total'])\n",
    "    if num_total >= 500:\n",
    "        raw_count.append(num_total)\n",
    "        ratio = len(uid_by_year[y]['kept']) / num_total\n",
    "        filter_ratios.append(ratio)\n",
    "        years.append(y)\n",
    "        yerrs.append(get_error(len(uid_by_year[y]['kept']), num_total))\n",
    "\n",
    "fig, ax = plt.subplots(figsize=(6, 3))\n",
    "plt.bar(years, filter_ratios, yerr=yerrs)\n",
    "plt.xticks(np.arange(min(years), max(years)+1, 1.0), rotation=40, ha='right')\n",
    "plt.ylim(0, 0.5)\n",
    "plt.title('Filter ratio by earliest-indexed year')\n",
    "plt.ylabel('Filter ratio')\n",
    "plt.xlabel('Year')\n",
    "plt.show()"
   ]
  },
  {
   "cell_type": "code",
   "execution_count": null,
   "id": "028534b1",
   "metadata": {},
   "outputs": [],
   "source": [
    "MIN_COUNT = 1000\n",
    "x = [c for c in raw_count if c >= MIN_COUNT]\n",
    "y = [filter_ratios[i] for i, c in enumerate(raw_count) if c >= MIN_COUNT]\n",
    "\n",
    "plt.xlabel('Raw count by year')\n",
    "plt.ylabel('Filter ratio (percent in kept dataset)') \n",
    "plt.title('Filter ratio vs frequency in unfiltered dataset')\n",
    "plt.scatter(x, y)\n",
    "\n",
    "b, a = np.polyfit(x, y, deg=1)\n",
    "print(np.corrcoef(x, y)[0,1] ** 2)\n",
    "slope, intercept, r_value, p_value, std_err = scipy.stats.linregress(x, y)\n",
    "print(slope, intercept, r_value, p_value, std_err)\n",
    "# Create sequence of 100 numbers from 0 to 100 \n",
    "xseq = np.linspace(0, 30000, num=100)\n",
    "\n",
    "# Plot regression line\n",
    "plt.plot(xseq, a + b * xseq, color=\"k\", lw=2.5);"
   ]
  },
  {
   "cell_type": "code",
   "execution_count": null,
   "id": "5e3548c2",
   "metadata": {},
   "outputs": [],
   "source": []
  },
  {
   "cell_type": "markdown",
   "id": "a14b06e9",
   "metadata": {},
   "source": [
    "# Wayback machine"
   ]
  },
  {
   "cell_type": "code",
   "execution_count": null,
   "id": "e7cbed50",
   "metadata": {},
   "outputs": [],
   "source": [
    "client = WaybackClient()\n",
    "results = client.search('nasa.gov')\n",
    "record = next(results)\n",
    "record.timestamp.strftime(\"%Y%m%d%H%M%S\")"
   ]
  },
  {
   "cell_type": "code",
   "execution_count": null,
   "id": "65562f6a",
   "metadata": {},
   "outputs": [],
   "source": [
    "def peek(iterable):\n",
    "    try:\n",
    "        first = next(iterable)\n",
    "    except StopIteration:\n",
    "        return None\n",
    "    return first"
   ]
  },
  {
   "cell_type": "code",
   "execution_count": null,
   "id": "203cac5b",
   "metadata": {},
   "outputs": [],
   "source": [
    "# by exact URL\n",
    "\n",
    "NUM_SAMPLE = 1000000\n",
    "df_sample = df.sample(NUM_SAMPLE, random_state=0)\n",
    "\n",
    "# uid_to_timestamps = {}\n",
    "count = 0\n",
    "\n",
    "for i, row in df_sample.iterrows():\n",
    "    uid = row['uid']\n",
    "    base_url = row['base_url']\n",
    "    url = row['url']\n",
    "\n",
    "    count += 1\n",
    "    if uid in uid_to_timestamps:\n",
    "        continue\n",
    "\n",
    "#     time.sleep(1)\n",
    "    \n",
    "    try:\n",
    "        results = client.search(url)\n",
    "        record = peek(results)\n",
    "        if record and record.timestamp:\n",
    "            earliest_timestamp = int(record.timestamp.strftime(\"%Y%m%d%H%M%S\"))\n",
    "            uid_to_timestamps[uid] = earliest_timestamp\n",
    "        else:\n",
    "            uid_to_timestamps[uid] = None\n",
    "        print(count, base_url, uid_to_timestamps[uid])\n",
    "    except Exception as e:\n",
    "        print('ERROR', e, count, base_url)"
   ]
  },
  {
   "cell_type": "code",
   "execution_count": null,
   "id": "ea130ba5",
   "metadata": {},
   "outputs": [],
   "source": [
    "len(uid_to_timestamps)"
   ]
  },
  {
   "cell_type": "code",
   "execution_count": null,
   "id": "ee652019",
   "metadata": {},
   "outputs": [],
   "source": [
    "df_sample[['uid', 'url', 'base_url']].to_csv('../sample_images_1M_url_df.csv')"
   ]
  },
  {
   "cell_type": "code",
   "execution_count": null,
   "id": "754a5330",
   "metadata": {},
   "outputs": [],
   "source": [
    "df_sample[['uid', 'url', 'base_url']]"
   ]
  },
  {
   "cell_type": "code",
   "execution_count": null,
   "id": "0b7f96d5",
   "metadata": {},
   "outputs": [],
   "source": [
    "r = requests.get(\"http://web.archive.org/cdx/search/cdx\", params={'url': 'azureedge.net', 'limit': 1})\n",
    "r.content"
   ]
  },
  {
   "cell_type": "code",
   "execution_count": null,
   "id": "65f9670c",
   "metadata": {},
   "outputs": [],
   "source": [
    "results = client.search('r-corona.jp')\n",
    "record = peek(results)\n",
    "print(record.timestamp if record else None)"
   ]
  },
  {
   "cell_type": "code",
   "execution_count": null,
   "id": "62dce895",
   "metadata": {},
   "outputs": [],
   "source": []
  }
 ],
 "metadata": {
  "kernelspec": {
   "display_name": "Python 3 (ipykernel)",
   "language": "python",
   "name": "python3"
  },
  "language_info": {
   "codemirror_mode": {
    "name": "ipython",
    "version": 3
   },
   "file_extension": ".py",
   "mimetype": "text/x-python",
   "name": "python",
   "nbconvert_exporter": "python",
   "pygments_lexer": "ipython3",
   "version": "3.10.8"
  }
 },
 "nbformat": 4,
 "nbformat_minor": 5
}
